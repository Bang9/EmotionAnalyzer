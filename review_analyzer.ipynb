{
 "cells": [
  {
   "cell_type": "code",
   "execution_count": 11,
   "metadata": {
    "collapsed": false
   },
   "outputs": [],
   "source": [
    "def parseReviewCorpus():\n",
    "    from konlpy.tag import Twitter\n",
    "    twitter = Twitter()\n",
    "\n",
    "    train_data = open('./review_corpus/ratings_train.txt','r',encoding='UTF-8')\n",
    "    test_data = open('./review_corpus/ratings_test.txt','r',encoding='UTF-8')\n",
    "\n",
    "    train = open(\"review_train.txt\", 'w',encoding='UTF-8')\n",
    "    test = open(\"review_test.txt\", 'w',encoding='UTF-8')\n",
    "\n",
    "    header = train_data.readline().split('\\n')[0].split('\\t')\n",
    "    test_data.readline()\n",
    "    \n",
    "    print(test_data.readline())\n",
    "\n",
    "    for review in train_data:\n",
    "        rv = review.split('\\n')[0].split('\\t')\n",
    "        rv[1] = twitter.pos(rv[1], norm=True)\n",
    "        t=[]\n",
    "        for item in rv[1]:\n",
    "            t.append(\"/\".join(item))\n",
    "        rv[1] = \" \".join(t)\n",
    "        train.write(\"\\t\".join(rv)+'\\n')\n",
    "\n",
    "    for review in test_data:\n",
    "        rv = review.split('\\n')[0].split('\\t')\n",
    "        rv[1] = twitter.pos(rv[1], norm=True)\n",
    "        t=[]\n",
    "        for item in rv[1]:\n",
    "            t.append(\"/\".join(item))\n",
    "        rv[1] = \" \".join(t)\n",
    "        test.write(\"\\t\".join(rv)+'\\n')\n",
    "\n",
    "    train.close()\n",
    "    test.close()\n",
    "    train_data.close()\n",
    "    test_data.close()"
   ]
  },
  {
   "cell_type": "code",
   "execution_count": null,
   "metadata": {
    "collapsed": false
   },
   "outputs": [
    {
     "name": "stdout",
     "output_type": "stream",
     "text": [
      "6270596\t굳 ㅋ\t1\n",
      "\n"
     ]
    }
   ],
   "source": [
    "parseReviewCorpus()\n",
    "\n",
    "train = open(\"review_train.txt\", 'r')\n",
    "test = open(\"review_test.txt\", 'r')\n",
    "\n",
    "train.readline()"
   ]
  },
  {
   "cell_type": "code",
   "execution_count": null,
   "metadata": {
    "collapsed": true
   },
   "outputs": [],
   "source": []
  }
 ],
 "metadata": {
  "kernelspec": {
   "display_name": "Python 3",
   "language": "python",
   "name": "python3"
  },
  "language_info": {
   "codemirror_mode": {
    "name": "ipython",
    "version": 3
   },
   "file_extension": ".py",
   "mimetype": "text/x-python",
   "name": "python",
   "nbconvert_exporter": "python",
   "pygments_lexer": "ipython3",
   "version": "3.5.2"
  }
 },
 "nbformat": 4,
 "nbformat_minor": 1
}
